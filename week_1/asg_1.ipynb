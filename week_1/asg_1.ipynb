{
 "cells": [
  {
   "attachments": {},
   "cell_type": "markdown",
   "metadata": {},
   "source": [
    "\n",
    "## Portfolio Assignment week 01\n",
    "\n",
    "Study the Tutorial tutorial_cluster_scanpy_object and the tutorial_Clustering_Methods\n",
    "\n",
    "Write a brief summary about the following:\n",
    "\n",
    "-\tWhat are common preprocessing steps? Explain for each step why and when you should execute this step and when not.\n",
    "-\tWhat visualization methods are used in the cluster methods tutorial? Explain why the selected method is the most appropriate method for the visualization. Bonus points: do this as well for the scanpy tutorial.\n",
    "-\tWhat performance/evaluation metrics are in the cluster methods tutorial? Explain why the used methods are the most appropriate method for the evaluation.\n",
    "\n",
    "\n",
    "Bonus:\n",
    "You practice the steps yourself with the breast_cancer dataset (clustering_data.csv)"
   ]
  },
  {
   "attachments": {},
   "cell_type": "markdown",
   "metadata": {},
   "source": [
    "#### 1:\n",
    "        Scaling the data.\n",
    "        Checking for NAN\n",
    "        Checking if there is a column for colouring\n",
    "        Understading the data what does each column mean\n",
    "        Checking the typess\n",
    "\n",
    "#### 2:\n",
    "        kmeans is what they use. reason might be that we want to see which wine type cluster to gather based on location\n",
    "        for the scanpy tutorial PCA is used reason is that we want to cluster based on similarity of the columns and than uses the nearest neigbor to cluster.\n",
    "        this is one way of doing it because pont that are closer togheter will be seen as a cluster\n",
    "\n",
    "#### 3:"
    "        they used the area under the curve this a good way to tell how accurate the model. reason might be \n"
    "        Comparison of Models: AUC provides a reliable basis for comparing different models or algorithms. Models with higher AUC values generally have better discriminative power and are considered more effective in distinguishing between positive and negative instances.\n"
   ]
  }
 ],
 "metadata": {
  "kernelspec": {
   "display_name": "Python 3",
   "language": "python",
   "name": "python3"
  },
  "language_info": {
   "codemirror_mode": {
    "name": "ipython",
    "version": 3
   },
   "file_extension": ".py",
   "mimetype": "text/x-python",
   "name": "python",
   "nbconvert_exporter": "python",
   "pygments_lexer": "ipython3",
   "version": "3.10.8"
  },
  "orig_nbformat": 4
 },
 "nbformat": 4,
 "nbformat_minor": 2
}
