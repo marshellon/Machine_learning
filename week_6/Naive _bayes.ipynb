{
 "cells": [
  {
   "attachments": {},
   "cell_type": "markdown",
   "metadata": {},
   "source": [
    "# Naive Bayes\n",
    "Naive Bayes is a classification algorithm family based on the Bayes theorem and the premise of feature independence. Despite the \"naive\" premise, Naive Bayes classifiers have been shown to perform effectively in a variety of real-world contexts, with particular success in text classification tasks.\n",
    "\n",
    "We are going to predict if a person has corona based on a view features using Naive Bayes"
   ]
  },
  {
   "cell_type": "code",
   "execution_count": 2,
   "metadata": {},
   "outputs": [],
   "source": [
    "# moduls\n",
    "import pandas as pd\n",
    "import numpy as np\n",
    "import  sklearn as sk\n",
    "from sklearn.naive_bayes import CategoricalNB"
   ]
  },
  {
   "attachments": {},
   "cell_type": "markdown",
   "metadata": {},
   "source": [
    "# Getting the data\n",
    "The data are in characters, but sklearn works better with numbers, so I'll change the \"yes\" and \"no\" to 0 for no and 1 for yes for the headach column.\n",
    "The roomate columns are not included in this dataframe since including them will have a negative impact on the results."
   ]
  },
  {
   "cell_type": "code",
   "execution_count": 3,
   "metadata": {},
   "outputs": [
    {
     "data": {
      "text/html": [
       "<div>\n",
       "<style scoped>\n",
       "    .dataframe tbody tr th:only-of-type {\n",
       "        vertical-align: middle;\n",
       "    }\n",
       "\n",
       "    .dataframe tbody tr th {\n",
       "        vertical-align: top;\n",
       "    }\n",
       "\n",
       "    .dataframe thead th {\n",
       "        text-align: right;\n",
       "    }\n",
       "</style>\n",
       "<table border=\"1\" class=\"dataframe\">\n",
       "  <thead>\n",
       "    <tr style=\"text-align: right;\">\n",
       "      <th></th>\n",
       "      <th>shivers</th>\n",
       "      <th>running nose</th>\n",
       "      <th>headache</th>\n",
       "      <th>test results</th>\n",
       "    </tr>\n",
       "  </thead>\n",
       "  <tbody>\n",
       "    <tr>\n",
       "      <th>0</th>\n",
       "      <td>1</td>\n",
       "      <td>0</td>\n",
       "      <td>0</td>\n",
       "      <td>0</td>\n",
       "    </tr>\n",
       "    <tr>\n",
       "      <th>1</th>\n",
       "      <td>0</td>\n",
       "      <td>0</td>\n",
       "      <td>1</td>\n",
       "      <td>0</td>\n",
       "    </tr>\n",
       "    <tr>\n",
       "      <th>2</th>\n",
       "      <td>1</td>\n",
       "      <td>1</td>\n",
       "      <td>0</td>\n",
       "      <td>1</td>\n",
       "    </tr>\n",
       "    <tr>\n",
       "      <th>3</th>\n",
       "      <td>0</td>\n",
       "      <td>1</td>\n",
       "      <td>0</td>\n",
       "      <td>0</td>\n",
       "    </tr>\n",
       "    <tr>\n",
       "      <th>4</th>\n",
       "      <td>0</td>\n",
       "      <td>0</td>\n",
       "      <td>1</td>\n",
       "      <td>1</td>\n",
       "    </tr>\n",
       "    <tr>\n",
       "      <th>5</th>\n",
       "      <td>1</td>\n",
       "      <td>0</td>\n",
       "      <td>0</td>\n",
       "      <td>0</td>\n",
       "    </tr>\n",
       "    <tr>\n",
       "      <th>6</th>\n",
       "      <td>1</td>\n",
       "      <td>1</td>\n",
       "      <td>1</td>\n",
       "      <td>1</td>\n",
       "    </tr>\n",
       "  </tbody>\n",
       "</table>\n",
       "</div>"
      ],
      "text/plain": [
       "   shivers  running nose  headache  test results\n",
       "0        1             0         0             0\n",
       "1        0             0         1             0\n",
       "2        1             1         0             1\n",
       "3        0             1         0             0\n",
       "4        0             0         1             1\n",
       "5        1             0         0             0\n",
       "6        1             1         1             1"
      ]
     },
     "execution_count": 3,
     "metadata": {},
     "output_type": "execute_result"
    }
   ],
   "source": [
    "data = {\"shivers\": [1,0,1,0,0,1,1],\n",
    "        \"running nose\": [0,0,1,1,0,0,1],\n",
    "        \"headache\": [0,1,0,0,1,0,1],\n",
    "        \"test results\": [0,0,1,0,1,0,1]}\n",
    "df = pd.DataFrame(data)\n",
    "df"
   ]
  },
  {
   "attachments": {},
   "cell_type": "markdown",
   "metadata": {},
   "source": [
    "# Train data with CategoricalNB"
   ]
  },
  {
   "cell_type": "code",
   "execution_count": 6,
   "metadata": {},
   "outputs": [
    {
     "name": "stdout",
     "output_type": "stream",
     "text": [
      "result for predicting:\n",
      "[0]\n"
     ]
    }
   ],
   "source": [
    "X = df.drop(columns=[\"test results\"])\n",
    "y = df[\"test results\"]\n",
    "clf = CategoricalNB(force_alpha=True)\n",
    "clf.fit(X,y)\n",
    "print(\"result for predicting:\")\n",
    "print(clf.predict(X[3:4]))"
   ]
  },
  {
   "attachments": {},
   "cell_type": "markdown",
   "metadata": {},
   "source": [
    "Predicting with all of the characteristics and classes should be easy, therefore the NB will get it right. "
   ]
  },
  {
   "attachments": {},
   "cell_type": "markdown",
   "metadata": {},
   "source": [
    "# Naive Bayes\n"
   ]
  },
  {
   "cell_type": "code",
   "execution_count": 60,
   "metadata": {},
   "outputs": [
    {
     "name": "stdout",
     "output_type": "stream",
     "text": [
      "Predicted Class for row number 5: 0\n",
      "prob for being neg 0.09375\n",
      "prob for pos: 0.07407407407407407\n"
     ]
    }
   ],
   "source": [
    "df = pd.DataFrame(data)\n",
    "\n",
    "# Separate the features (symptoms) and the target (test results)\n",
    "X = df[['shivers', 'running nose', 'headache']]\n",
    "y = df['test results']\n",
    "\n",
    "# Calculate the prior probabilities\n",
    "p_negative = sum(y == 0) / len(y)\n",
    "p_positive = sum(y == 1) / len(y)\n",
    "\n",
    "# Calculate the conditional probabilities for row number 5 (index 4)\n",
    "new_instance = X.iloc[4]\n",
    "\n",
    "p_shivers_given_negative = sum((X.loc[y == 0, 'shivers'] == new_instance['shivers'])) / sum(y == 0)\n",
    "p_running_nose_given_negative = sum((X.loc[y == 0, 'running nose'] == new_instance['running nose'])) / sum(y == 0)\n",
    "p_headache_given_negative = sum((X.loc[y == 0, 'headache'] == new_instance['headache'])) / sum(y == 0)\n",
    "\n",
    "p_shivers_given_positive = sum((X.loc[y == 1, 'shivers'] == new_instance['shivers'])) / sum(y == 1)\n",
    "p_running_nose_given_positive = sum((X.loc[y == 1, 'running nose'] == new_instance['running nose'])) / sum(y == 1)\n",
    "p_headache_given_positive = sum((X.loc[y == 1, 'headache'] == new_instance['headache'])) / sum(y == 1)\n",
    "\n",
    "# Calculate the probabilities for row number 5\n",
    "p_row_given_negative = p_shivers_given_negative * p_running_nose_given_negative * p_headache_given_negative\n",
    "p_row_given_positive = p_shivers_given_positive * p_running_nose_given_positive * p_headache_given_positive\n",
    "\n",
    "# Compare the probabilities to determine the predicted class\n",
    "predicted_class = 0 if p_row_given_negative > p_row_given_positive else 1\n",
    "\n",
    "print(\"Predicted Class for row number 5:\", predicted_class)\n",
    "print(\"prob for being neg\",p_row_given_negative)\n",
    "print(\"prob for pos:\",p_row_given_positive)\n"
   ]
  },
  {
   "attachments": {},
   "cell_type": "markdown",
   "metadata": {},
   "source": [
    "# Conclusion\n",
    "This outcome is understandable.\n",
    "It is projected to be negative because only one of the symptoms is present, implying that the likelihood of that person having covid is minimal.\n",
    "\n",
    "As a result, the algorithm will not classify them as positive because it is most likely that this person is suffering from something other than covid.\n"
   ]
  }
 ],
 "metadata": {
  "kernelspec": {
   "display_name": "Python 3",
   "language": "python",
   "name": "python3"
  },
  "language_info": {
   "codemirror_mode": {
    "name": "ipython",
    "version": 3
   },
   "file_extension": ".py",
   "mimetype": "text/x-python",
   "name": "python",
   "nbconvert_exporter": "python",
   "pygments_lexer": "ipython3",
   "version": "3.11.4"
  },
  "orig_nbformat": 4
 },
 "nbformat": 4,
 "nbformat_minor": 2
}
